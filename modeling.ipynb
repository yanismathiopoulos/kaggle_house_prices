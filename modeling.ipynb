{
 "cells": [
  {
   "cell_type": "markdown",
   "metadata": {},
   "source": [
    "# House Prices Model"
   ]
  },
  {
   "cell_type": "markdown",
   "metadata": {},
   "source": [
    "## Imports"
   ]
  },
  {
   "cell_type": "code",
   "execution_count": 1,
   "metadata": {},
   "outputs": [],
   "source": [
    "import numpy as np\n",
    "import pandas as pd\n",
    "import math\n",
    "\n",
    "from sklearn.metrics import mean_squared_error\n",
    "from sklearn.model_selection import GridSearchCV, RandomizedSearchCV, KFold, cross_val_score\n",
    "from sklearn.pipeline import Pipeline, make_pipeline\n",
    "from sklearn.preprocessing import StandardScaler\n",
    "from sklearn.tree import DecisionTreeRegressor\n",
    "from sklearn.ensemble import RandomForestRegressor\n",
    "from sklearn.svm import SVR\n",
    "import xgboost as xgb\n",
    "\n",
    "%load_ext autoreload\n",
    "%autoreload 2"
   ]
  },
  {
   "cell_type": "markdown",
   "metadata": {},
   "source": [
    "## Load Data"
   ]
  },
  {
   "cell_type": "code",
   "execution_count": 2,
   "metadata": {},
   "outputs": [],
   "source": [
    "X_train = pd.read_csv(\"./processed_dataset/X_train.csv\").values\n",
    "y_train = pd.read_csv(\"./processed_dataset/y_train.csv\").values.ravel()\n",
    "X_test = pd.read_csv(\"./processed_dataset/X_test.csv\").values"
   ]
  },
  {
   "cell_type": "markdown",
   "metadata": {},
   "source": [
    "## Model Options"
   ]
  },
  {
   "cell_type": "code",
   "execution_count": 3,
   "metadata": {},
   "outputs": [],
   "source": [
    "grid_search_options = {\n",
    "    # choose from sorted(metrics.SCORERS.keys())\n",
    "    'scoring': 'neg_mean_squared_log_error',\n",
    "\n",
    "    # jobs to run in parallel (-1 means using all processors)\n",
    "    'n_jobs': 8,\n",
    "\n",
    "    # cross-validation splitting strategy\n",
    "    # (None, to use the default 5-fold cross validation)\n",
    "    'cv': None,\n",
    "    'verbose': 10\n",
    "}"
   ]
  },
  {
   "cell_type": "markdown",
   "metadata": {},
   "source": [
    "## SVM"
   ]
  },
  {
   "cell_type": "code",
   "execution_count": 4,
   "metadata": {},
   "outputs": [],
   "source": [
    "# SVR RANDOM\n",
    "scaler = StandardScaler()\n",
    "estimator = SVR(cache_size=1000)\n",
    "pipe = make_pipeline(\n",
    "    scaler,\n",
    "    estimator\n",
    ")\n",
    "\n",
    "svr_rand_grid = {\n",
    "    'C': [1, 10, 100], 'kernel': ['linear', 'rbf']\n",
    "}\n",
    "\n",
    "svr_rand_grid = {pipe.steps[1][0] + '__' +\n",
    "                 k: v for k, v in svr_rand_grid.items()}\n",
    "\n",
    "svr_rand = RandomizedSearchCV(\n",
    "    estimator=pipe,\n",
    "    param_distributions=svr_rand_grid,\n",
    "    n_iter=2,\n",
    "    **grid_search_options\n",
    ")"
   ]
  },
  {
   "cell_type": "code",
   "execution_count": 5,
   "metadata": {},
   "outputs": [],
   "source": [
    "# svr_rand.fit(X_train, y_train)\n",
    "\n",
    "# print(\"best estimator: \", svr_rand.best_estimator_)\n",
    "# print(\"best cross_validation score: \", round(sqrt(-svr_rand.best_score_), 5))"
   ]
  },
  {
   "cell_type": "code",
   "execution_count": 4,
   "metadata": {
    "jupyter": {
     "source_hidden": true
    }
   },
   "outputs": [],
   "source": [
    "# # SVR PARAMETERS\n",
    "\n",
    "# svr_param_grid = {\n",
    "#     'C': [1, 10, 100], 'kernel': ['linear']\n",
    "# }\n",
    "\n",
    "# svr_param_grid = {pipe.steps[1][0] + '__' + k: v for k, v in svr_param_grid.items()}\n",
    "\n",
    "# svr_grid = GridSearchCV(\n",
    "#     estimator=SVR(),\n",
    "#     param_grid=svr_param_grid,\n",
    "#     **grid_search_options\n",
    "# )\n",
    "# svr_grid.fit(X_train, y_train)\n",
    "\n",
    "# print(\"best estimator: \", svr_grid.best_estimator_)\n",
    "# print(\"best cross_validation score: \", round(sqrt(-svr_grid.best_score_), 5))"
   ]
  },
  {
   "cell_type": "markdown",
   "metadata": {},
   "source": [
    "## Random Forest"
   ]
  },
  {
   "cell_type": "code",
   "execution_count": 5,
   "metadata": {},
   "outputs": [],
   "source": [
    "# RF RANDOM\n",
    "\n",
    "# It is necessary to bundle together the scaler with the estimator\n",
    "# otherwise the scaler fits all the trainset\n",
    "# and information leaks int the cross-validation\n",
    "\n",
    "scaler = StandardScaler()\n",
    "estimator = RandomForestRegressor()\n",
    "pipe = make_pipeline(scaler, estimator)\n",
    "\n",
    "# Number of trees in random forest\n",
    "n_estimators = [int(x) for x in np.linspace(start=500, stop=4000, num=8)]\n",
    "# Number of features to consider at every split\n",
    "max_features = ['auto', 'sqrt']\n",
    "# Maximum number of levels in tree\n",
    "max_depth = [int(x) for x in np.linspace(30, 110, num=9)]\n",
    "max_depth.append(None)\n",
    "# # Minimum number of samples required to split a node\n",
    "# min_samples_split = [2, 5, 10]\n",
    "# # Minimum number of samples required at each leaf node\n",
    "# min_samples_leaf = [1, 2, 4]\n",
    "# Method of selecting samples for training each tree\n",
    "bootstrap = [True, False]\n",
    "\n",
    "rf_rand_grid = {\n",
    "    'n_estimators': n_estimators,\n",
    "    'max_features': max_features,\n",
    "    'max_depth': max_depth,\n",
    "    #     'min_samples_split': min_samples_split,\n",
    "    #     'min_samples_leaf': min_samples_leaf,\n",
    "    'bootstrap': bootstrap\n",
    "}\n",
    "\n",
    "rf_rand_grid = {pipe.steps[1][0] + '__' +\n",
    "                k: v for k, v in rf_rand_grid.items()}\n",
    "\n",
    "rf_rand = RandomizedSearchCV(\n",
    "    estimator=pipe,\n",
    "    param_distributions=rf_rand_grid,\n",
    "    n_iter=10,\n",
    "    **grid_search_options\n",
    ")"
   ]
  },
  {
   "cell_type": "code",
   "execution_count": 6,
   "metadata": {},
   "outputs": [],
   "source": [
    "# rf_rand.fit(X_train, y_train)\n",
    "\n",
    "# print(\"best estimator: \", rf_rand.best_estimator_)\n",
    "# print(\"best cross_validation score: \", round(sqrt(-rf_rand.best_score_), 5))"
   ]
  },
  {
   "cell_type": "code",
   "execution_count": null,
   "metadata": {},
   "outputs": [],
   "source": [
    "# # RF PARAMETERS\n",
    "\n",
    "# rf_param_grid = [\n",
    "#     {'n_estimators': [800, 1400, 1600]},\n",
    "#     {'max_features': ['auto', 'sqrt']},\n",
    "#     {'max_depth': [None, 50, 60, 70]},\n",
    "#     {'bootstrap': [True, False]}\n",
    "# ]\n",
    "\n",
    "# rf_grid = GridSearchCV(\n",
    "#     estimator=RandomForestRegressor(),\n",
    "#     param_grid=rf_param_grid,\n",
    "#     **grid_search_options\n",
    "# )\n",
    "\n",
    "# rf_grid.fit(X_train, y_train)\n",
    "\n",
    "# print(\"best estimator: \", rf_grid.best_estimator_)\n",
    "# print(\"best cross_validation score: \", round(sqrt(-rf_grid.best_score_),5))"
   ]
  },
  {
   "cell_type": "markdown",
   "metadata": {},
   "source": [
    "## XGBoost"
   ]
  },
  {
   "cell_type": "code",
   "execution_count": 8,
   "metadata": {},
   "outputs": [],
   "source": [
    "xgboost = xgb.XGBRegressor(\n",
    "    colsample_bytree=0.4603,\n",
    "    gamma=0.0468,\n",
    "    learning_rate=0.05,\n",
    "    max_depth=3,\n",
    "    min_child_weight=1.7817,\n",
    "    n_estimators=2200,\n",
    "    reg_alpha=0.4640,\n",
    "    reg_lambda=0.8571,\n",
    "    subsample=0.5213,\n",
    "    silent=1,\n",
    "    random_state=7,\n",
    "    nthread=-1\n",
    ")\n",
    "\n",
    "xgboost = xgb.XGBRegressor(\n",
    "    learning_rate=0.01,\n",
    "    n_estimators=3460,\n",
    "    max_depth=3,\n",
    "    min_child_weight=0,\n",
    "    gamma=0,\n",
    "    subsample=0.7,\n",
    "    colsample_bytree=0.7,\n",
    "    objective='reg:squarederror',\n",
    "    nthread=-1,\n",
    "    scale_pos_weight=1,\n",
    "    seed=27,\n",
    "    reg_alpha=0.00006\n",
    ")"
   ]
  },
  {
   "cell_type": "code",
   "execution_count": 10,
   "metadata": {},
   "outputs": [],
   "source": [
    "xgb_rand_grid = {\n",
    "    'learning_rate': [0.01, 0.05],\n",
    "    'n_estimators': [2000, 3000],\n",
    "    'max_depth': [3, 4],\n",
    "    'min_child_weight': [0, 1, 2],\n",
    "    'gamma': [0, 0.5, 1, 2],\n",
    "    'subsample': [0.5, 0.6, 0.7],\n",
    "    'colsample_bytree': [0.4, 0.6, 0.7],\n",
    "    'objective': ['reg:squarederror'],\n",
    "    'nthread': [-1]\n",
    "}\n",
    "\n",
    "xgboost = xgb.XGBRegressor()\n",
    "\n",
    "xgb_random = RandomizedSearchCV(\n",
    "    estimator=xgboost, \n",
    "    param_distributions=xgb_rand_grid,\n",
    "    n_iter=10,\n",
    "    **grid_search_options\n",
    ")"
   ]
  },
  {
   "cell_type": "code",
   "execution_count": null,
   "metadata": {},
   "outputs": [],
   "source": [
    "xgb_random.fit(X_train, y_train)"
   ]
  },
  {
   "cell_type": "code",
   "execution_count": 13,
   "metadata": {},
   "outputs": [
    {
     "name": "stdout",
     "output_type": "stream",
     "text": [
      "best estimator:  XGBRegressor(base_score=0.5, booster='gbtree', colsample_bylevel=1,\n",
      "             colsample_bynode=1, colsample_bytree=0.6, gamma=0, gpu_id=-1,\n",
      "             importance_type='gain', interaction_constraints='',\n",
      "             learning_rate=0.01, max_delta_step=0, max_depth=4,\n",
      "             min_child_weight=2, missing=nan, monotone_constraints='()',\n",
      "             n_estimators=3000, n_jobs=-1, nthread=-1, num_parallel_tree=1,\n",
      "             random_state=0, reg_alpha=0, reg_lambda=1, scale_pos_weight=1,\n",
      "             subsample=0.7, tree_method='exact', validate_parameters=1,\n",
      "             verbosity=None)\n",
      "best cross_validation score:  0.00884\n"
     ]
    }
   ],
   "source": [
    "print(\"best estimator: \", xgb_random.best_estimator_)\n",
    "print(\"best cross_validation score: \", round(np.sqrt(-xgb_random.best_score_), 5))"
   ]
  },
  {
   "cell_type": "code",
   "execution_count": 16,
   "metadata": {},
   "outputs": [],
   "source": [
    "def rmsle(y, y_pred):\n",
    "    return np.sqrt(mean_squared_error(y, y_pred))\n",
    "\n",
    "\n",
    "# def cv_rmse(model, X, y):\n",
    "#     kfolds = KFold(n_splits=5, shuffle=True)\n",
    "#     rmse = np.sqrt(-cross_val_score(model, X, y,\n",
    "#                                     scoring=\"neg_mean_squared_error\", cv=kfolds))\n",
    "#     return (rmse)"
   ]
  },
  {
   "cell_type": "code",
   "execution_count": 10,
   "metadata": {},
   "outputs": [
    {
     "data": {
      "text/plain": [
       "array([0.11513306, 0.11096707, 0.10428389, 0.11088586, 0.12052089])"
      ]
     },
     "execution_count": 10,
     "metadata": {},
     "output_type": "execute_result"
    }
   ],
   "source": [
    "# cv_rmse(xgboost, X_train, y_train)"
   ]
  },
  {
   "cell_type": "code",
   "execution_count": 11,
   "metadata": {},
   "outputs": [
    {
     "data": {
      "text/plain": [
       "XGBRegressor(base_score=0.5, booster='gbtree', colsample_bylevel=1,\n",
       "             colsample_bynode=1, colsample_bytree=0.7, gamma=0, gpu_id=-1,\n",
       "             importance_type='gain', interaction_constraints='',\n",
       "             learning_rate=0.01, max_delta_step=0, max_depth=3,\n",
       "             min_child_weight=0, missing=nan, monotone_constraints='()',\n",
       "             n_estimators=3460, n_jobs=-1, nthread=-1, num_parallel_tree=1,\n",
       "             random_state=27, reg_alpha=6e-05, reg_lambda=1, scale_pos_weight=1,\n",
       "             seed=27, subsample=0.7, tree_method='exact', validate_parameters=1,\n",
       "             verbosity=None)"
      ]
     },
     "execution_count": 11,
     "metadata": {},
     "output_type": "execute_result"
    }
   ],
   "source": [
    "# xgboost.fit(X_train, y_train)"
   ]
  },
  {
   "cell_type": "code",
   "execution_count": 12,
   "metadata": {},
   "outputs": [],
   "source": [
    "# cv_rmse(rf_rand, X_train, y_train)"
   ]
  },
  {
   "cell_type": "markdown",
   "metadata": {},
   "source": [
    "## Select Best Model"
   ]
  },
  {
   "cell_type": "code",
   "execution_count": 14,
   "metadata": {},
   "outputs": [],
   "source": [
    "# select model\n",
    "model = xgb_random\n",
    "\n",
    "# predictions\n",
    "y_pred_train = model.predict(X_train)\n",
    "y_pred_test = model.predict(X_test)"
   ]
  },
  {
   "cell_type": "code",
   "execution_count": 17,
   "metadata": {},
   "outputs": [
    {
     "name": "stdout",
     "output_type": "stream",
     "text": [
      "trainset RMSE:  0.03796\n"
     ]
    }
   ],
   "source": [
    "# test set evaluation\n",
    "rmse = rmsle(y=y_train, y_pred=y_pred_train)\n",
    "print(\"trainset RMSE: \", round(rmse, 5))"
   ]
  },
  {
   "cell_type": "code",
   "execution_count": 18,
   "metadata": {},
   "outputs": [
    {
     "data": {
      "text/html": [
       "<div>\n",
       "<style scoped>\n",
       "    .dataframe tbody tr th:only-of-type {\n",
       "        vertical-align: middle;\n",
       "    }\n",
       "\n",
       "    .dataframe tbody tr th {\n",
       "        vertical-align: top;\n",
       "    }\n",
       "\n",
       "    .dataframe thead th {\n",
       "        text-align: right;\n",
       "    }\n",
       "</style>\n",
       "<table border=\"1\" class=\"dataframe\">\n",
       "  <thead>\n",
       "    <tr style=\"text-align: right;\">\n",
       "      <th></th>\n",
       "      <th>Id</th>\n",
       "      <th>SalePrice</th>\n",
       "    </tr>\n",
       "  </thead>\n",
       "  <tbody>\n",
       "    <tr>\n",
       "      <td>0</td>\n",
       "      <td>1461</td>\n",
       "      <td>122013.078125</td>\n",
       "    </tr>\n",
       "    <tr>\n",
       "      <td>1</td>\n",
       "      <td>1462</td>\n",
       "      <td>159874.031250</td>\n",
       "    </tr>\n",
       "    <tr>\n",
       "      <td>2</td>\n",
       "      <td>1463</td>\n",
       "      <td>191197.875000</td>\n",
       "    </tr>\n",
       "    <tr>\n",
       "      <td>3</td>\n",
       "      <td>1464</td>\n",
       "      <td>192373.375000</td>\n",
       "    </tr>\n",
       "    <tr>\n",
       "      <td>4</td>\n",
       "      <td>1465</td>\n",
       "      <td>181166.375000</td>\n",
       "    </tr>\n",
       "  </tbody>\n",
       "</table>\n",
       "</div>"
      ],
      "text/plain": [
       "     Id      SalePrice\n",
       "0  1461  122013.078125\n",
       "1  1462  159874.031250\n",
       "2  1463  191197.875000\n",
       "3  1464  192373.375000\n",
       "4  1465  181166.375000"
      ]
     },
     "execution_count": 18,
     "metadata": {},
     "output_type": "execute_result"
    }
   ],
   "source": [
    "df_test = pd.read_csv('./input/test.csv')\n",
    "\n",
    "predictions = pd.DataFrame(np.exp(y_pred_test), columns=['SalePrice'])\n",
    "submission = pd.concat([df_test['Id'], predictions], axis=1)\n",
    "submission.head()"
   ]
  },
  {
   "cell_type": "code",
   "execution_count": 19,
   "metadata": {},
   "outputs": [
    {
     "data": {
      "text/plain": [
       "count      1459.000000\n",
       "mean     178454.218750\n",
       "std       78826.281250\n",
       "min       39919.558594\n",
       "25%      127867.539062\n",
       "50%      156499.156250\n",
       "75%      209989.687500\n",
       "max      662572.250000\n",
       "Name: SalePrice, dtype: float64"
      ]
     },
     "execution_count": 19,
     "metadata": {},
     "output_type": "execute_result"
    }
   ],
   "source": [
    "submission['SalePrice'].describe()"
   ]
  },
  {
   "cell_type": "code",
   "execution_count": 20,
   "metadata": {},
   "outputs": [],
   "source": [
    "submission.to_csv('output/submission.csv', index=False)"
   ]
  },
  {
   "cell_type": "code",
   "execution_count": 22,
   "metadata": {},
   "outputs": [
    {
     "name": "stdout",
     "output_type": "stream",
     "text": [
      "Successfully submitted to House Prices: Advanced Regression Techniques\n"
     ]
    },
    {
     "name": "stderr",
     "output_type": "stream",
     "text": [
      "\n",
      "  0%|          | 0.00/22.6k [00:00<?, ?B/s]\n",
      " 35%|###5      | 8.00k/22.6k [00:00<00:00, 53.9kB/s]\n",
      "100%|##########| 22.6k/22.6k [00:03<00:00, 6.18kB/s]\n"
     ]
    }
   ],
   "source": [
    "!kaggle competitions submit -c house-prices-advanced-regression-techniques -f ./output/submission.csv -m test_upload"
   ]
  },
  {
   "cell_type": "markdown",
   "metadata": {},
   "source": [
    "## Appendix (unused code)"
   ]
  },
  {
   "cell_type": "code",
   "execution_count": null,
   "metadata": {},
   "outputs": [],
   "source": [
    "# mse = make_scorer(mean_squared_error ,greater_is_better=False)"
   ]
  },
  {
   "cell_type": "code",
   "execution_count": null,
   "metadata": {},
   "outputs": [],
   "source": [
    "# r1 = SVR(C=1000, kernel='linear')\n",
    "# r2 = RandomForestRegressor(n_estimators=1000)\n",
    "\n",
    "# er = VotingRegressor(\n",
    "#     estimators=[('svr', r1), ('rf', r2)],\n",
    "#     n_jobs=-1,\n",
    "#     verbose=True\n",
    "# )\n",
    "\n",
    "# er.fit(X_train, y_train)\n",
    "# y_pred = er.predict(X_test)"
   ]
  }
 ],
 "metadata": {
  "kernelspec": {
   "display_name": "Python 3",
   "language": "python",
   "name": "python3"
  },
  "language_info": {
   "codemirror_mode": {
    "name": "ipython",
    "version": 3
   },
   "file_extension": ".py",
   "mimetype": "text/x-python",
   "name": "python",
   "nbconvert_exporter": "python",
   "pygments_lexer": "ipython3",
   "version": "3.7.0"
  },
  "toc-autonumbering": true
 },
 "nbformat": 4,
 "nbformat_minor": 4
}
